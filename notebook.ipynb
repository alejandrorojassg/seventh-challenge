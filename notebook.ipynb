{
 "cells": [
  {
   "cell_type": "markdown",
   "metadata": {},
   "source": [
    "<h1>Well, this is my 7th repo, and I start hating it tbh</h1>"
   ]
  },
  {
   "cell_type": "markdown",
   "metadata": {},
   "source": [
    "<p>so, now we start by the beginning w/ 1st point:</p>"
   ]
  },
  {
   "cell_type": "code",
   "execution_count": null,
   "metadata": {},
   "outputs": [],
   "source": [
    "for numero in range(1, 101):\n",
    "  cuadrado = numero ** 2\n",
    "\n",
    "  print(f\"{numero} -> {cuadrado}\")"
   ]
  },
  {
   "cell_type": "markdown",
   "metadata": {},
   "source": [
    "second point:"
   ]
  },
  {
   "cell_type": "code",
   "execution_count": null,
   "metadata": {},
   "outputs": [],
   "source": [
    "print(\"Números impares:\")\n",
    "for numero in range(1, 1000, 2):\n",
    "  print(numero)\n",
    "\n",
    "print(\"Números pares:\")\n",
    "for numero in range(2, 1001, 2):\n",
    "  print(numero)"
   ]
  },
  {
   "cell_type": "markdown",
   "metadata": {},
   "source": [
    "third: "
   ]
  },
  {
   "cell_type": "code",
   "execution_count": null,
   "metadata": {},
   "outputs": [],
   "source": [
    "def pares_descendentes(n):\n",
    "  if n < 2:\n",
    "    return\n",
    "\n",
    "  if n % 2 == 0:\n",
    "    print(n)\n",
    "\n",
    "  for numero in range(n-2, 2, -2):\n",
    "    print(numero)\n",
    "\n",
    "n = int(input(\"Introduce un número natural n ≥ 2: \"))\n",
    "pares_descendentes(n)"
   ]
  },
  {
   "cell_type": "markdown",
   "metadata": {},
   "source": [
    "fourth:"
   ]
  },
  {
   "cell_type": "code",
   "execution_count": null,
   "metadata": {},
   "outputs": [],
   "source": [
    "def calcular_year_superacion(poblacion_a, tasa_a, poblacion_b, tasa_b):\n",
    "\n",
    "  year = 2022\n",
    "\n",
    "  while poblacion_b <= poblacion_a:\n",
    "    poblacion_a *= (1 + tasa_a)\n",
    "\n",
    "    poblacion_b *= (1 + tasa_b)\n",
    "\n",
    "    year += 1\n",
    "\n",
    "  return year\n",
    "\n",
    "poblacion_a = 25000000\n",
    "\n",
    "tasa_a = 0.02\n",
    "\n",
    "poblacion_b = 18900000\n",
    "\n",
    "tasa_b = 0.03\n",
    "\n",
    "year_superacion = calcular_year_superacion(poblacion_a, tasa_a, poblacion_b, tasa_b)\n",
    "\n",
    "print(f\"La población del país B superará a la del país A en el año {year_superacion}\")"
   ]
  },
  {
   "cell_type": "markdown",
   "metadata": {},
   "source": [
    "5th: "
   ]
  },
  {
   "cell_type": "code",
   "execution_count": null,
   "metadata": {},
   "outputs": [],
   "source": [
    "def calcular_factorial(n):\n",
    "\n",
    "  if n == 0 or n == 1:\n",
    "    return 1\n",
    "\n",
    "  factorial = 1\n",
    "  for i in range(2, n + 1):\n",
    "    factorial *= i\n",
    "\n",
    "  return factorial\n",
    "\n",
    "n = int(input(\"Introduzca un número natural n: \"))\n",
    "\n",
    "factorial = calcular_factorial(n)\n",
    "\n",
    "print(f\"El factorial de {n} es {factorial}\")"
   ]
  },
  {
   "cell_type": "markdown",
   "metadata": {},
   "source": [
    "6th:"
   ]
  },
  {
   "cell_type": "code",
   "execution_count": null,
   "metadata": {},
   "outputs": [],
   "source": [
    "def adivinar_numero():\n",
    "\n",
    "  minimo = 1\n",
    "  maximo = 100\n",
    "\n",
    "  while minimo <= maximo:\n",
    "    mitad = (minimo + maximo) // 2\n",
    "\n",
    "    respuesta = input(f\"El número secreto está en la mitad inferior del rango actual ({minimo}-{mitad})? (Sí/No) \").lower()\n",
    "\n",
    "    if respuesta == \"sí\":\n",
    "      maximo = mitad - 1\n",
    "\n",
    "    elif respuesta == \"no\":\n",
    "      minimo = mitad + 1\n",
    "\n",
    "  return minimo\n",
    "\n",
    "numero_secreto = adivinar_numero()\n",
    "\n",
    "print(f\"¡Felicidades! Adivinaste el número secreto: {numero_secreto}\")"
   ]
  },
  {
   "cell_type": "markdown",
   "metadata": {},
   "source": [
    "7:"
   ]
  },
  {
   "cell_type": "code",
   "execution_count": null,
   "metadata": {},
   "outputs": [],
   "source": [
    "def calcular_divisores(numero):\n",
    "\n",
    "  divisores = []\n",
    "  for i in range(1, numero + 1):\n",
    "    if numero % i == 0:\n",
    "      divisores.append(i)\n",
    "\n",
    "  return divisores\n",
    "\n",
    "numero = int(input(\"Introduzca un número entre 2 y 50: \"))\n",
    "\n",
    "divisores = calcular_divisores(numero)\n",
    "\n",
    "print(f\"Los divisores de {numero} son: {divisores}\")"
   ]
  },
  {
   "cell_type": "markdown",
   "metadata": {},
   "source": [
    "8th and last one 🙏🏽🙏🏽🙏🏽🙏🏽"
   ]
  },
  {
   "cell_type": "code",
   "execution_count": null,
   "metadata": {},
   "outputs": [],
   "source": [
    "def es_primo(numero):\n",
    "  \n",
    "  if numero <= 1:\n",
    "    return False\n",
    "\n",
    "  for i in range(2, int(numero**0.5) + 1):\n",
    "    if numero % i == 0:\n",
    "      return False\n",
    "\n",
    "  return True\n",
    "\n",
    "def imprimir_primos(n):\n",
    "  \n",
    "  print(\"Números primos del 1 al\", n)\n",
    "  for i in range(2, n + 1):\n",
    "    if es_primo(i):\n",
    "      print(i)\n",
    "\n",
    "imprimir_primos(100)"
   ]
  },
  {
   "cell_type": "markdown",
   "metadata": {},
   "source": [
    "<h2>thx for watching (?)</h2>"
   ]
  }
 ],
 "metadata": {
  "kernelspec": {
   "display_name": "Python 3",
   "language": "python",
   "name": "python3"
  },
  "language_info": {
   "codemirror_mode": {
    "name": "ipython",
    "version": 3
   },
   "file_extension": ".py",
   "mimetype": "text/x-python",
   "name": "python",
   "nbconvert_exporter": "python",
   "pygments_lexer": "ipython3",
   "version": "3.12.2"
  }
 },
 "nbformat": 4,
 "nbformat_minor": 2
}
